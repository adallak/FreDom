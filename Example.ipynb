{
 "cells": [
  {
   "cell_type": "markdown",
   "metadata": {},
   "source": [
    "## Illustration of Experiment 1"
   ]
  },
  {
   "cell_type": "code",
   "execution_count": 67,
   "metadata": {},
   "outputs": [],
   "source": [
    "from utility import GenComplexDAG\n",
    "from FreDom import FreDom\n",
    "\n",
    "p = 5\n",
    "T = 256\n",
    "prob = 0.5\n",
    "seed = 1003453 \n",
    "## NOTE: For large T, Data generation may take several minutes \n",
    "## for quick illustration decrease T = 200\n",
    "k = GenComplexDAG(p, T, prob, seed = seed)   \n",
    "true_dag = k.DAG\n",
    "true_order = k.ord"
   ]
  },
  {
   "cell_type": "code",
   "execution_count": 68,
   "metadata": {},
   "outputs": [
    {
     "name": "stderr",
     "output_type": "stream",
     "text": [
      "c:\\Users\\armop\\AppData\\Local\\Programs\\Python\\Python38\\lib\\site-packages\\scipy\\signal\\_spectral_py.py:1814: UserWarning: Input data is complex, switching to return_onesided=False\n",
      "  warnings.warn('Input data is complex, switching to '\n",
      "c:\\Users\\armop\\Dropbox\\PHD\\Research\\FreDOM\\Code\\FreDom.py:308: RuntimeWarning: divide by zero encountered in true_divide\n",
      "  weight = np.maximum(1 - self.lmbd/ (self.rho * np.abs(A)), 0)\n"
     ]
    }
   ],
   "source": [
    "import utils\n",
    "import postprocess\n",
    "from postprocess import postprocess, getadjacency\n",
    "\n",
    "# Generate complex valued data from transfer function\n",
    "utils.set_random_seed(1)\n",
    "\n",
    "est = FreDom(k.X, nfreq = 4, thresh = 1e-5, \n",
    "         lmbd = 0.1, rho = 10, rhoflex=True, sdm_halflength= 25,\n",
    "         alpha = 1, window = \"hamming\", sdm_type=\"welch\",\n",
    "         detrend = \"constant\", provide_sdm= True)\n",
    "est.fit()\n",
    "\n"
   ]
  },
  {
   "cell_type": "code",
   "execution_count": 73,
   "metadata": {},
   "outputs": [],
   "source": [
    "est_ord = est.order\n",
    "B_processed = postprocess(est.B, threshold=0.1)\n",
    "B_adj = getadjacency(B_processed)"
   ]
  },
  {
   "cell_type": "code",
   "execution_count": 74,
   "metadata": {},
   "outputs": [
    {
     "name": "stdout",
     "output_type": "stream",
     "text": [
      "True order is  [4 2 1 0 3]\n",
      "Estimated order is  [4 1 2 0 3]\n"
     ]
    }
   ],
   "source": [
    "print(\"True order is \", true_order)\n",
    "print(\"Estimated order is \",est_ord)"
   ]
  },
  {
   "cell_type": "code",
   "execution_count": 75,
   "metadata": {},
   "outputs": [
    {
     "name": "stdout",
     "output_type": "stream",
     "text": [
      "{'fdr': 0.1111111111111111, 'tpr': 0.8, 'fpr': 1.0, 'shd': 2, 'nnz': 9}\n"
     ]
    }
   ],
   "source": [
    "acc = utils.count_accuracy(B_adj, true_dag)\n",
    "print(acc)"
   ]
  },
  {
   "cell_type": "code",
   "execution_count": null,
   "metadata": {},
   "outputs": [],
   "source": []
  }
 ],
 "metadata": {
  "kernelspec": {
   "display_name": "Python 3.8.7 64-bit",
   "language": "python",
   "name": "python3"
  },
  "language_info": {
   "codemirror_mode": {
    "name": "ipython",
    "version": 3
   },
   "file_extension": ".py",
   "mimetype": "text/x-python",
   "name": "python",
   "nbconvert_exporter": "python",
   "pygments_lexer": "ipython3",
   "version": "3.8.7"
  },
  "orig_nbformat": 4,
  "vscode": {
   "interpreter": {
    "hash": "54570647bc50a2fbda637255aad452a7237f19588c574d532cc26c35d6290fae"
   }
  }
 },
 "nbformat": 4,
 "nbformat_minor": 2
}
